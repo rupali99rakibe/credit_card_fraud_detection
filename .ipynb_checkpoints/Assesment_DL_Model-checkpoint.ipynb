{
 "cells": [
  {
   "cell_type": "markdown",
   "id": "f1c65de1-cbc4-49a5-85e7-2fc2455fda66",
   "metadata": {},
   "source": [
    "# Import Necessary Libraries"
   ]
  },
  {
   "cell_type": "code",
   "execution_count": 1,
   "id": "3d7f8237-9df2-4798-8221-054306ea8f10",
   "metadata": {},
   "outputs": [],
   "source": [
    "import pandas as pd\n",
    "import numpy as np\n",
    "import matplotlib.pyplot as plt\n",
    "import seaborn as sns\n",
    "from sklearn.model_selection import train_test_split\n",
    "from sklearn.preprocessing import StandardScaler\n",
    "from imblearn.over_sampling import SMOTE\n",
    "from sklearn.metrics import classification_report, confusion_matrix, roc_curve, auc\n",
    "\n",
    "# Keras Libraries for Neural Networks\n",
    "from keras.models import Sequential\n",
    "from keras.layers import Dense, Dropout"
   ]
  },
  {
   "cell_type": "markdown",
   "id": "2952cfe5-edec-4027-9c48-172aa5c06ec1",
   "metadata": {},
   "source": [
    "# Load and Explore the Dataset"
   ]
  },
  {
   "cell_type": "code",
   "execution_count": 2,
   "id": "ea6e2f22-c8f9-4778-9eb1-6a08e010a298",
   "metadata": {},
   "outputs": [
    {
     "name": "stdout",
     "output_type": "stream",
     "text": [
      "<class 'pandas.core.frame.DataFrame'>\n",
      "RangeIndex: 284807 entries, 0 to 284806\n",
      "Data columns (total 31 columns):\n",
      " #   Column  Non-Null Count   Dtype  \n",
      "---  ------  --------------   -----  \n",
      " 0   Time    284807 non-null  float64\n",
      " 1   V1      284807 non-null  float64\n",
      " 2   V2      284807 non-null  float64\n",
      " 3   V3      284807 non-null  float64\n",
      " 4   V4      284807 non-null  float64\n",
      " 5   V5      284807 non-null  float64\n",
      " 6   V6      284807 non-null  float64\n",
      " 7   V7      284807 non-null  float64\n",
      " 8   V8      284807 non-null  float64\n",
      " 9   V9      284807 non-null  float64\n",
      " 10  V10     284807 non-null  float64\n",
      " 11  V11     284807 non-null  float64\n",
      " 12  V12     284807 non-null  float64\n",
      " 13  V13     284807 non-null  float64\n",
      " 14  V14     284807 non-null  float64\n",
      " 15  V15     284807 non-null  float64\n",
      " 16  V16     284807 non-null  float64\n",
      " 17  V17     284807 non-null  float64\n",
      " 18  V18     284807 non-null  float64\n",
      " 19  V19     284807 non-null  float64\n",
      " 20  V20     284807 non-null  float64\n",
      " 21  V21     284807 non-null  float64\n",
      " 22  V22     284807 non-null  float64\n",
      " 23  V23     284807 non-null  float64\n",
      " 24  V24     284807 non-null  float64\n",
      " 25  V25     284807 non-null  float64\n",
      " 26  V26     284807 non-null  float64\n",
      " 27  V27     284807 non-null  float64\n",
      " 28  V28     284807 non-null  float64\n",
      " 29  Amount  284807 non-null  float64\n",
      " 30  Class   284807 non-null  int64  \n",
      "dtypes: float64(30), int64(1)\n",
      "memory usage: 67.4 MB\n"
     ]
    },
    {
     "data": {
      "text/html": [
       "<div>\n",
       "<style scoped>\n",
       "    .dataframe tbody tr th:only-of-type {\n",
       "        vertical-align: middle;\n",
       "    }\n",
       "\n",
       "    .dataframe tbody tr th {\n",
       "        vertical-align: top;\n",
       "    }\n",
       "\n",
       "    .dataframe thead th {\n",
       "        text-align: right;\n",
       "    }\n",
       "</style>\n",
       "<table border=\"1\" class=\"dataframe\">\n",
       "  <thead>\n",
       "    <tr style=\"text-align: right;\">\n",
       "      <th></th>\n",
       "      <th>Time</th>\n",
       "      <th>V1</th>\n",
       "      <th>V2</th>\n",
       "      <th>V3</th>\n",
       "      <th>V4</th>\n",
       "      <th>V5</th>\n",
       "      <th>V6</th>\n",
       "      <th>V7</th>\n",
       "      <th>V8</th>\n",
       "      <th>V9</th>\n",
       "      <th>...</th>\n",
       "      <th>V21</th>\n",
       "      <th>V22</th>\n",
       "      <th>V23</th>\n",
       "      <th>V24</th>\n",
       "      <th>V25</th>\n",
       "      <th>V26</th>\n",
       "      <th>V27</th>\n",
       "      <th>V28</th>\n",
       "      <th>Amount</th>\n",
       "      <th>Class</th>\n",
       "    </tr>\n",
       "  </thead>\n",
       "  <tbody>\n",
       "    <tr>\n",
       "      <th>0</th>\n",
       "      <td>0.0</td>\n",
       "      <td>-1.359807</td>\n",
       "      <td>-0.072781</td>\n",
       "      <td>2.536347</td>\n",
       "      <td>1.378155</td>\n",
       "      <td>-0.338321</td>\n",
       "      <td>0.462388</td>\n",
       "      <td>0.239599</td>\n",
       "      <td>0.098698</td>\n",
       "      <td>0.363787</td>\n",
       "      <td>...</td>\n",
       "      <td>-0.018307</td>\n",
       "      <td>0.277838</td>\n",
       "      <td>-0.110474</td>\n",
       "      <td>0.066928</td>\n",
       "      <td>0.128539</td>\n",
       "      <td>-0.189115</td>\n",
       "      <td>0.133558</td>\n",
       "      <td>-0.021053</td>\n",
       "      <td>149.62</td>\n",
       "      <td>0</td>\n",
       "    </tr>\n",
       "    <tr>\n",
       "      <th>1</th>\n",
       "      <td>0.0</td>\n",
       "      <td>1.191857</td>\n",
       "      <td>0.266151</td>\n",
       "      <td>0.166480</td>\n",
       "      <td>0.448154</td>\n",
       "      <td>0.060018</td>\n",
       "      <td>-0.082361</td>\n",
       "      <td>-0.078803</td>\n",
       "      <td>0.085102</td>\n",
       "      <td>-0.255425</td>\n",
       "      <td>...</td>\n",
       "      <td>-0.225775</td>\n",
       "      <td>-0.638672</td>\n",
       "      <td>0.101288</td>\n",
       "      <td>-0.339846</td>\n",
       "      <td>0.167170</td>\n",
       "      <td>0.125895</td>\n",
       "      <td>-0.008983</td>\n",
       "      <td>0.014724</td>\n",
       "      <td>2.69</td>\n",
       "      <td>0</td>\n",
       "    </tr>\n",
       "    <tr>\n",
       "      <th>2</th>\n",
       "      <td>1.0</td>\n",
       "      <td>-1.358354</td>\n",
       "      <td>-1.340163</td>\n",
       "      <td>1.773209</td>\n",
       "      <td>0.379780</td>\n",
       "      <td>-0.503198</td>\n",
       "      <td>1.800499</td>\n",
       "      <td>0.791461</td>\n",
       "      <td>0.247676</td>\n",
       "      <td>-1.514654</td>\n",
       "      <td>...</td>\n",
       "      <td>0.247998</td>\n",
       "      <td>0.771679</td>\n",
       "      <td>0.909412</td>\n",
       "      <td>-0.689281</td>\n",
       "      <td>-0.327642</td>\n",
       "      <td>-0.139097</td>\n",
       "      <td>-0.055353</td>\n",
       "      <td>-0.059752</td>\n",
       "      <td>378.66</td>\n",
       "      <td>0</td>\n",
       "    </tr>\n",
       "    <tr>\n",
       "      <th>3</th>\n",
       "      <td>1.0</td>\n",
       "      <td>-0.966272</td>\n",
       "      <td>-0.185226</td>\n",
       "      <td>1.792993</td>\n",
       "      <td>-0.863291</td>\n",
       "      <td>-0.010309</td>\n",
       "      <td>1.247203</td>\n",
       "      <td>0.237609</td>\n",
       "      <td>0.377436</td>\n",
       "      <td>-1.387024</td>\n",
       "      <td>...</td>\n",
       "      <td>-0.108300</td>\n",
       "      <td>0.005274</td>\n",
       "      <td>-0.190321</td>\n",
       "      <td>-1.175575</td>\n",
       "      <td>0.647376</td>\n",
       "      <td>-0.221929</td>\n",
       "      <td>0.062723</td>\n",
       "      <td>0.061458</td>\n",
       "      <td>123.50</td>\n",
       "      <td>0</td>\n",
       "    </tr>\n",
       "    <tr>\n",
       "      <th>4</th>\n",
       "      <td>2.0</td>\n",
       "      <td>-1.158233</td>\n",
       "      <td>0.877737</td>\n",
       "      <td>1.548718</td>\n",
       "      <td>0.403034</td>\n",
       "      <td>-0.407193</td>\n",
       "      <td>0.095921</td>\n",
       "      <td>0.592941</td>\n",
       "      <td>-0.270533</td>\n",
       "      <td>0.817739</td>\n",
       "      <td>...</td>\n",
       "      <td>-0.009431</td>\n",
       "      <td>0.798278</td>\n",
       "      <td>-0.137458</td>\n",
       "      <td>0.141267</td>\n",
       "      <td>-0.206010</td>\n",
       "      <td>0.502292</td>\n",
       "      <td>0.219422</td>\n",
       "      <td>0.215153</td>\n",
       "      <td>69.99</td>\n",
       "      <td>0</td>\n",
       "    </tr>\n",
       "  </tbody>\n",
       "</table>\n",
       "<p>5 rows × 31 columns</p>\n",
       "</div>"
      ],
      "text/plain": [
       "   Time        V1        V2        V3        V4        V5        V6        V7  \\\n",
       "0   0.0 -1.359807 -0.072781  2.536347  1.378155 -0.338321  0.462388  0.239599   \n",
       "1   0.0  1.191857  0.266151  0.166480  0.448154  0.060018 -0.082361 -0.078803   \n",
       "2   1.0 -1.358354 -1.340163  1.773209  0.379780 -0.503198  1.800499  0.791461   \n",
       "3   1.0 -0.966272 -0.185226  1.792993 -0.863291 -0.010309  1.247203  0.237609   \n",
       "4   2.0 -1.158233  0.877737  1.548718  0.403034 -0.407193  0.095921  0.592941   \n",
       "\n",
       "         V8        V9  ...       V21       V22       V23       V24       V25  \\\n",
       "0  0.098698  0.363787  ... -0.018307  0.277838 -0.110474  0.066928  0.128539   \n",
       "1  0.085102 -0.255425  ... -0.225775 -0.638672  0.101288 -0.339846  0.167170   \n",
       "2  0.247676 -1.514654  ...  0.247998  0.771679  0.909412 -0.689281 -0.327642   \n",
       "3  0.377436 -1.387024  ... -0.108300  0.005274 -0.190321 -1.175575  0.647376   \n",
       "4 -0.270533  0.817739  ... -0.009431  0.798278 -0.137458  0.141267 -0.206010   \n",
       "\n",
       "        V26       V27       V28  Amount  Class  \n",
       "0 -0.189115  0.133558 -0.021053  149.62      0  \n",
       "1  0.125895 -0.008983  0.014724    2.69      0  \n",
       "2 -0.139097 -0.055353 -0.059752  378.66      0  \n",
       "3 -0.221929  0.062723  0.061458  123.50      0  \n",
       "4  0.502292  0.219422  0.215153   69.99      0  \n",
       "\n",
       "[5 rows x 31 columns]"
      ]
     },
     "execution_count": 2,
     "metadata": {},
     "output_type": "execute_result"
    }
   ],
   "source": [
    "# Load Data Set\n",
    "df = pd.read_csv(\"creditcard.csv\")\n",
    "# Check basic information about the dataset\n",
    "df.info()\n",
    "# Display the above five rows of a dataset\n",
    "df.head()"
   ]
  },
  {
   "cell_type": "markdown",
   "id": "4b3a8257-b482-4a53-92b9-f96e229f74c3",
   "metadata": {},
   "source": [
    "# Preprocess the Data"
   ]
  },
  {
   "cell_type": "code",
   "execution_count": 3,
   "id": "b75b5330-5fe0-4118-9d10-e9a8ef440072",
   "metadata": {},
   "outputs": [],
   "source": [
    "# copied data set\n",
    "df1 = df.copy()"
   ]
  },
  {
   "cell_type": "code",
   "execution_count": 4,
   "id": "74404a0b-228f-4b32-af81-8e234fcf4847",
   "metadata": {},
   "outputs": [],
   "source": [
    "# Separate features and target variable\n",
    "X = df1.drop('Class', axis=1)\n",
    "y = df1['Class']\n",
    "\n",
    "# Split the data into training and testing sets (80-20)\n",
    "X_train, X_test, y_train, y_test = train_test_split(X, y, test_size=0.2, random_state=42, stratify=y)\n",
    "\n",
    "# Standardize the feature data\n",
    "scaler = StandardScaler()\n",
    "X_train_scaled = scaler.fit_transform(X_train)\n",
    "X_test_scaled = scaler.transform(X_test)"
   ]
  },
  {
   "cell_type": "markdown",
   "id": "669f2e5e-74e6-41a7-afcf-44aab92ffa1f",
   "metadata": {},
   "source": [
    "# Handle Imbalanced Classes using SMOTE"
   ]
  },
  {
   "cell_type": "code",
   "execution_count": 5,
   "id": "5d3a5b01-1e46-4fce-87ad-e1a4d952e3bc",
   "metadata": {},
   "outputs": [
    {
     "name": "stdout",
     "output_type": "stream",
     "text": [
      "Class distribution after SMOTE:\n",
      "0    227451\n",
      "1    227451\n",
      "Name: Class, dtype: int64\n"
     ]
    }
   ],
   "source": [
    "# Use SMOTE to oversample the minority class\n",
    "smote = SMOTE(random_state=42)\n",
    "X_resampled, y_resampled = smote.fit_resample(X_train_scaled, y_train)\n",
    "\n",
    "# Check the new class distribution\n",
    "print(f\"Class distribution after SMOTE:\\n{pd.Series(y_resampled).value_counts()}\")"
   ]
  },
  {
   "cell_type": "markdown",
   "id": "3c871c26-19dd-4325-b13c-c3898a6f5c49",
   "metadata": {},
   "source": [
    "# Build the Neural Network Model"
   ]
  },
  {
   "cell_type": "code",
   "execution_count": 17,
   "id": "76d0eb8b-2358-4094-ada9-0dae911a8b5f",
   "metadata": {},
   "outputs": [],
   "source": [
    "# Build a neural network model\n",
    "model = Sequential()\n",
    "\n",
    "# Input Layer\n",
    "model.add(Dense(64, input_dim=X_resampled.shape[1], activation='relu'))\n",
    "\n",
    "# Hidden Layer 1\n",
    "model.add(Dense(32, activation='relu'))\n",
    "model.add(Dropout(0.5))  # Dropout for regularization\n",
    "\n",
    "# Hidden Layer 2\n",
    "model.add(Dense(16, activation='sigmoid'))\n",
    "model.add(Dropout(0.3))\n",
    "\n",
    "# Output Layer\n",
    "model.add(Dense(1, activation='sigmoid'))  \n",
    "\n",
    "# Compile the model\n",
    "model.compile(optimizer='adam', loss='binary_crossentropy', metrics=['accuracy'])"
   ]
  },
  {
   "cell_type": "markdown",
   "id": "e566486c-667b-4f0c-bcdd-d2a991ec22f0",
   "metadata": {},
   "source": [
    "# Train the Neural Network Model"
   ]
  },
  {
   "cell_type": "code",
   "execution_count": 12,
   "id": "4221163f-ed8f-4179-b21f-7a0661a57af3",
   "metadata": {},
   "outputs": [
    {
     "name": "stdout",
     "output_type": "stream",
     "text": [
      "Epoch 1/20\n",
      "7108/7108 [==============================] - 9s 1ms/step - loss: 0.0380 - accuracy: 0.9893 - val_loss: 0.0104 - val_accuracy: 0.9980\n",
      "Epoch 2/20\n",
      "7108/7108 [==============================] - 8s 1ms/step - loss: 0.0077 - accuracy: 0.9983 - val_loss: 0.0097 - val_accuracy: 0.9982\n",
      "Epoch 3/20\n",
      "7108/7108 [==============================] - 8s 1ms/step - loss: 0.0060 - accuracy: 0.9988 - val_loss: 0.0105 - val_accuracy: 0.9983\n",
      "Epoch 4/20\n",
      "7108/7108 [==============================] - 8s 1ms/step - loss: 0.0054 - accuracy: 0.9989 - val_loss: 0.0105 - val_accuracy: 0.9983\n",
      "Epoch 5/20\n",
      "7108/7108 [==============================] - 8s 1ms/step - loss: 0.0045 - accuracy: 0.9991 - val_loss: 0.0099 - val_accuracy: 0.9985\n",
      "Epoch 6/20\n",
      "7108/7108 [==============================] - 8s 1ms/step - loss: 0.0041 - accuracy: 0.9992 - val_loss: 0.0106 - val_accuracy: 0.9984\n",
      "Epoch 7/20\n",
      "7108/7108 [==============================] - 8s 1ms/step - loss: 0.0037 - accuracy: 0.9993 - val_loss: 0.0119 - val_accuracy: 0.9984\n",
      "Epoch 8/20\n",
      "7108/7108 [==============================] - 8s 1ms/step - loss: 0.0036 - accuracy: 0.9994 - val_loss: 0.0101 - val_accuracy: 0.9988\n",
      "Epoch 9/20\n",
      "7108/7108 [==============================] - 8s 1ms/step - loss: 0.0032 - accuracy: 0.9994 - val_loss: 0.0119 - val_accuracy: 0.9986\n",
      "Epoch 10/20\n",
      "7108/7108 [==============================] - 8s 1ms/step - loss: 0.0032 - accuracy: 0.9994 - val_loss: 0.0096 - val_accuracy: 0.9990\n",
      "Epoch 11/20\n",
      "7108/7108 [==============================] - 8s 1ms/step - loss: 0.0034 - accuracy: 0.9994 - val_loss: 0.0115 - val_accuracy: 0.9986\n",
      "Epoch 12/20\n",
      "7108/7108 [==============================] - 8s 1ms/step - loss: 0.0029 - accuracy: 0.9995 - val_loss: 0.0124 - val_accuracy: 0.9983\n",
      "Epoch 13/20\n",
      "7108/7108 [==============================] - 8s 1ms/step - loss: 0.0029 - accuracy: 0.9995 - val_loss: 0.0111 - val_accuracy: 0.9988\n",
      "Epoch 14/20\n",
      "7108/7108 [==============================] - 8s 1ms/step - loss: 0.0030 - accuracy: 0.9995 - val_loss: 0.0114 - val_accuracy: 0.9989\n",
      "Epoch 15/20\n",
      "7108/7108 [==============================] - 8s 1ms/step - loss: 0.0028 - accuracy: 0.9996 - val_loss: 0.0113 - val_accuracy: 0.9988\n",
      "Epoch 16/20\n",
      "7108/7108 [==============================] - 8s 1ms/step - loss: 0.0029 - accuracy: 0.9995 - val_loss: 0.0125 - val_accuracy: 0.9985\n",
      "Epoch 17/20\n",
      "7108/7108 [==============================] - 8s 1ms/step - loss: 0.0029 - accuracy: 0.9995 - val_loss: 0.0118 - val_accuracy: 0.9988\n",
      "Epoch 18/20\n",
      "7108/7108 [==============================] - 8s 1ms/step - loss: 0.0027 - accuracy: 0.9996 - val_loss: 0.0121 - val_accuracy: 0.9987\n",
      "Epoch 19/20\n",
      "7108/7108 [==============================] - 8s 1ms/step - loss: 0.0027 - accuracy: 0.9996 - val_loss: 0.0117 - val_accuracy: 0.9989\n",
      "Epoch 20/20\n",
      "7108/7108 [==============================] - 8s 1ms/step - loss: 0.0026 - accuracy: 0.9996 - val_loss: 0.0116 - val_accuracy: 0.9989\n"
     ]
    }
   ],
   "source": [
    "# Train the model\n",
    "history = model.fit(X_resampled, y_resampled, \n",
    "                    validation_data=(X_test_scaled, y_test), \n",
    "                    epochs=20, batch_size=64, verbose=1)"
   ]
  },
  {
   "cell_type": "markdown",
   "id": "6b9ecd58-13f8-4a06-90ff-1a420de04745",
   "metadata": {},
   "source": [
    "# Evaluate the Model Performance"
   ]
  },
  {
   "cell_type": "code",
   "execution_count": 19,
   "id": "767dce4d-618b-43e0-8cff-ca097273925c",
   "metadata": {},
   "outputs": [
    {
     "name": "stdout",
     "output_type": "stream",
     "text": [
      "1781/1781 [==============================] - 1s 670us/step\n",
      "Classification Report:\n",
      "               precision    recall  f1-score   support\n",
      "\n",
      "           0       1.00      1.00      1.00     56864\n",
      "           1       0.52      0.87      0.65        98\n",
      "\n",
      "    accuracy                           1.00     56962\n",
      "   macro avg       0.76      0.93      0.82     56962\n",
      "weighted avg       1.00      1.00      1.00     56962\n",
      "\n"
     ]
    }
   ],
   "source": [
    "# Predict using the test set\n",
    "y_pred = model.predict(X_test_scaled)\n",
    "y_pred = (y_pred > 0.5)  # Convert probabilities to binary predictions\n",
    "\n",
    "# Print classification report\n",
    "print(\"Classification Report:\\n\", classification_report(y_test, y_pred))\n"
   ]
  },
  {
   "cell_type": "code",
   "execution_count": 20,
   "id": "c908b4f0-dbbe-4aa0-a413-d97927647b0c",
   "metadata": {},
   "outputs": [
    {
     "data": {
      "image/png": "[encoded data removed]",
      "text/plain": [
       "<Figure size 640x480 with 2 Axes>"
      ]
     },
     "metadata": {},
     "output_type": "display_data"
    }
   ],
   "source": [
    "# Confusion Matrix\n",
    "conf_matrix = confusion_matrix(y_test, y_pred)\n",
    "sns.heatmap(conf_matrix, annot=True, fmt='d', cmap='Blues')\n",
    "plt.title('Confusion Matrix')\n",
    "plt.xlabel('Predicted Label')\n",
    "plt.ylabel('True Label')\n",
    "plt.show()"
   ]
  },
  {
   "cell_type": "code",
   "execution_count": 21,
   "id": "b7bb6b10-95db-4653-9449-7f23f691f6de",
   "metadata": {},
   "outputs": [
    {
     "data": {
      "image/png": "[encoded data removed]",
      "text/plain": [
       "<Figure size 640x480 with 1 Axes>"
      ]
     },
     "metadata": {},
     "output_type": "display_data"
    }
   ],
   "source": [
    "# ROC Curve\n",
    "fpr, tpr, thresholds = roc_curve(y_test, y_pred)\n",
    "roc_auc = auc(fpr, tpr)\n",
    "\n",
    "plt.figure()\n",
    "plt.plot(fpr, tpr, color='darkorange', lw=2, label=f'ROC curve (area = {roc_auc:.2f})')\n",
    "plt.plot([0, 1], [0, 1], color='navy', lw=2, linestyle='--')\n",
    "plt.xlabel('False Positive Rate')\n",
    "plt.ylabel('True Positive Rate')\n",
    "plt.title('Receiver Operating Characteristic (ROC) Curve')\n",
    "plt.legend(loc=\"lower right\")\n",
    "plt.show()"
   ]
  },
  {
   "cell_type": "markdown",
   "id": "c1b0ea4c-4fb3-4d65-9e75-cd1c8dee0701",
   "metadata": {},
   "source": [
    "# Visualize Training History"
   ]
  },
  {
   "cell_type": "code",
   "execution_count": 22,
   "id": "eaa2cd2b-a8b9-4078-95d1-4dbb566e8cdf",
   "metadata": {},
   "outputs": [
    {
     "data": {
      "image/png": "[encoded data removed]",
      "text/plain": [
       "<Figure size 1200x400 with 2 Axes>"
      ]
     },
     "metadata": {},
     "output_type": "display_data"
    }
   ],
   "source": [
    "# Plot training & validation accuracy values\n",
    "plt.figure(figsize=(12, 4))\n",
    "\n",
    "plt.subplot(1, 2, 1)\n",
    "plt.plot(history.history['accuracy'])\n",
    "plt.plot(history.history['val_accuracy'])\n",
    "plt.title('Model Accuracy')\n",
    "plt.ylabel('Accuracy')\n",
    "plt.xlabel('Epoch')\n",
    "plt.legend(['Train', 'Test'], loc='upper left')\n",
    "\n",
    "# Plot training & validation loss values\n",
    "plt.subplot(1, 2, 2)\n",
    "plt.plot(history.history['loss'])\n",
    "plt.plot(history.history['val_loss'])\n",
    "plt.title('Model Loss')\n",
    "plt.ylabel('Loss')\n",
    "plt.xlabel('Epoch')\n",
    "plt.legend(['Train', 'Test'], loc='upper left')\n",
    "\n",
    "plt.show()"
   ]
  },
  {
   "cell_type": "code",
   "execution_count": 18,
   "id": "c6fce6a4-0997-4ae2-8b36-b714442d5697",
   "metadata": {},
   "outputs": [
    {
     "name": "stdout",
     "output_type": "stream",
     "text": [
      "Epoch 1/20\n",
      "7108/7108 [==============================] - 13s 2ms/step - loss: 0.2825 - accuracy: 0.9286 - val_loss: 0.0743 - val_accuracy: 0.9743\n",
      "Epoch 2/20\n",
      "7108/7108 [==============================] - 12s 2ms/step - loss: 0.0652 - accuracy: 0.9859 - val_loss: 0.0423 - val_accuracy: 0.9883\n",
      "Epoch 3/20\n",
      "7108/7108 [==============================] - 12s 2ms/step - loss: 0.0387 - accuracy: 0.9923 - val_loss: 0.0320 - val_accuracy: 0.9926\n",
      "Epoch 4/20\n",
      "7108/7108 [==============================] - 12s 2ms/step - loss: 0.0286 - accuracy: 0.9945 - val_loss: 0.0268 - val_accuracy: 0.9940\n",
      "Epoch 5/20\n",
      "7108/7108 [==============================] - 12s 2ms/step - loss: 0.0233 - accuracy: 0.9955 - val_loss: 0.0230 - val_accuracy: 0.9955\n",
      "Epoch 6/20\n",
      "7108/7108 [==============================] - 12s 2ms/step - loss: 0.0200 - accuracy: 0.9965 - val_loss: 0.0198 - val_accuracy: 0.9961\n",
      "Epoch 7/20\n",
      "7108/7108 [==============================] - 12s 2ms/step - loss: 0.0168 - accuracy: 0.9970 - val_loss: 0.0172 - val_accuracy: 0.9966\n",
      "Epoch 8/20\n",
      "7108/7108 [==============================] - 12s 2ms/step - loss: 0.0153 - accuracy: 0.9973 - val_loss: 0.0167 - val_accuracy: 0.9974\n",
      "Epoch 9/20\n",
      "7108/7108 [==============================] - 12s 2ms/step - loss: 0.0136 - accuracy: 0.9975 - val_loss: 0.0160 - val_accuracy: 0.9974\n",
      "Epoch 10/20\n",
      "7108/7108 [==============================] - 12s 2ms/step - loss: 0.0130 - accuracy: 0.9978 - val_loss: 0.0144 - val_accuracy: 0.9978\n",
      "Epoch 11/20\n",
      "7108/7108 [==============================] - 12s 2ms/step - loss: 0.0127 - accuracy: 0.9979 - val_loss: 0.0153 - val_accuracy: 0.9976\n",
      "Epoch 12/20\n",
      "7108/7108 [==============================] - 12s 2ms/step - loss: 0.0111 - accuracy: 0.9982 - val_loss: 0.0160 - val_accuracy: 0.9976\n",
      "Epoch 13/20\n",
      "7108/7108 [==============================] - 12s 2ms/step - loss: 0.0107 - accuracy: 0.9982 - val_loss: 0.0151 - val_accuracy: 0.9979\n",
      "Epoch 14/20\n",
      "7108/7108 [==============================] - 12s 2ms/step - loss: 0.0104 - accuracy: 0.9983 - val_loss: 0.0161 - val_accuracy: 0.9978\n",
      "Epoch 15/20\n",
      "7108/7108 [==============================] - 12s 2ms/step - loss: 0.0095 - accuracy: 0.9985 - val_loss: 0.0143 - val_accuracy: 0.9981\n",
      "Epoch 16/20\n",
      "7108/7108 [==============================] - 12s 2ms/step - loss: 0.0090 - accuracy: 0.9985 - val_loss: 0.0147 - val_accuracy: 0.9978\n",
      "Epoch 17/20\n",
      "7108/7108 [==============================] - 12s 2ms/step - loss: 0.0088 - accuracy: 0.9985 - val_loss: 0.0153 - val_accuracy: 0.9980\n",
      "Epoch 18/20\n",
      "7108/7108 [==============================] - 12s 2ms/step - loss: 0.0079 - accuracy: 0.9987 - val_loss: 0.0137 - val_accuracy: 0.9984\n",
      "Epoch 19/20\n",
      "7108/7108 [==============================] - 12s 2ms/step - loss: 0.0079 - accuracy: 0.9987 - val_loss: 0.0141 - val_accuracy: 0.9983\n",
      "Epoch 20/20\n",
      "7108/7108 [==============================] - 12s 2ms/step - loss: 0.0073 - accuracy: 0.9988 - val_loss: 0.0133 - val_accuracy: 0.9984\n"
     ]
    }
   ],
   "source": [
    "# from keras.models import Sequential\n",
    "# from keras.layers import Dense, Dropout, BatchNormalization\n",
    "# from keras.optimizers import Adam\n",
    "\n",
    "# # Build a new neural network model\n",
    "# model = Sequential()\n",
    "\n",
    "# # Input Layer\n",
    "# model.add(Dense(128, input_dim=X_resampled.shape[1], activation='relu'))\n",
    "# model.add(BatchNormalization())  # Batch normalization\n",
    "\n",
    "# # Hidden Layer 1\n",
    "# model.add(Dense(64, activation='relu'))\n",
    "# model.add(Dropout(0.5))\n",
    "\n",
    "# # Hidden Layer 2\n",
    "# model.add(Dense(32, activation='relu'))\n",
    "# model.add(Dropout(0.3))\n",
    "\n",
    "# # Hidden Layer 3 (optional)\n",
    "# model.add(Dense(16, activation='relu'))\n",
    "# model.add(Dropout(0.2))\n",
    "\n",
    "# # Output Layer\n",
    "# model.add(Dense(1, activation='sigmoid'))\n",
    "\n",
    "# # Compile the model with a lower learning rate\n",
    "# model.compile(optimizer=Adam(learning_rate=0.0001), loss='binary_crossentropy', metrics=['accuracy'])\n",
    "\n",
    "# # Train the model using class weights\n",
    "# history = model.fit(X_resampled, y_resampled, \n",
    "#                     validation_data=(X_test_scaled, y_test), \n",
    "#                     epochs=20, batch_size=64, verbose=1,\n",
    "#                     class_weight={0: 1, 1: 5})"
   ]
  },
  {
   "cell_type": "code",
   "execution_count": null,
   "id": "6af0d0ce-6770-4cf4-92e8-d4d666e6f387",
   "metadata": {},
   "outputs": [],
   "source": []
  }
 ],
 "metadata": {
  "kernelspec": {
   "display_name": "Python 3 (ipykernel)",
   "language": "python",
   "name": "python3"
  },
  "language_info": {
   "codemirror_mode": {
    "name": "ipython",
    "version": 3
   },
   "file_extension": ".py",
   "mimetype": "text/x-python",
   "name": "python",
   "nbconvert_exporter": "python",
   "pygments_lexer": "ipython3",
   "version": "3.11.7"
  },
  "widgets": {
   "application/vnd.jupyter.widget-state+json": {
    "state": {},
    "version_major": 2,
    "version_minor": 0
   }
  }
 },
 "nbformat": 4,
 "nbformat_minor": 5
}
